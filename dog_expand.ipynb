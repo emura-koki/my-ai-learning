{
  "nbformat": 4,
  "nbformat_minor": 0,
  "metadata": {
    "colab": {
      "provenance": [],
      "authorship_tag": "ABX9TyNj9zRHn2pUL65I1uT3i3EH",
      "include_colab_link": true
    },
    "kernelspec": {
      "name": "python3",
      "display_name": "Python 3"
    },
    "language_info": {
      "name": "python"
    }
  },
  "cells": [
    {
      "cell_type": "markdown",
      "metadata": {
        "id": "view-in-github",
        "colab_type": "text"
      },
      "source": [
        "<a href=\"https://colab.research.google.com/github/emura-koki/my-ai-learning/blob/main/dog_expand.ipynb\" target=\"_parent\"><img src=\"https://colab.research.google.com/assets/colab-badge.svg\" alt=\"Open In Colab\"/></a>"
      ]
    },
    {
      "cell_type": "code",
      "execution_count": 6,
      "metadata": {
        "colab": {
          "base_uri": "https://localhost:8080/"
        },
        "id": "F65Pq5R7S0tU",
        "outputId": "c3d6b868-a0ee-4ccb-9d74-f3cce259811e"
      },
      "outputs": [
        {
          "output_type": "stream",
          "name": "stdout",
          "text": [
            "ポチがワン！と吠えます。\n",
            "シロがワン！と吠えます。\n",
            "ポチはりんごが好きです。\n",
            "ポチはカレーが好きです。\n"
          ]
        }
      ],
      "source": [
        "# Dogクラスの定義(favorite属性とlikeメソッドを追加してください)\n",
        "class Dog:\n",
        "    def __init__(self, name, age):\n",
        "        self.name = name\n",
        "        self.age = age\n",
        "\n",
        "    def bark(self):\n",
        "        print(f\"{self.name}がワン！と吠えます。\")\n",
        "\n",
        "    def like(self, thing):\n",
        "        print(f\"{self.name}は{thing}が好きです。\")\n",
        "\n",
        "\n",
        "# Dogクラスのインスタンスを作成 (適切な初期化を行ってください)\n",
        "pochi = Dog(\"ポチ\", 3)\n",
        "shiro = Dog(\"シロ\", 5)\n",
        "\n",
        "\n",
        "# インスタンスのメソッドを呼び出す\n",
        "pochi.bark()  # 出力: ポチがワン！と吠えます。\n",
        "shiro.bark()  # 出力: シロがワン！と吠えます。\n",
        "\n",
        "# 以下で実装したlikeメソッドを呼び出してください\n",
        "pochi.like(\"りんご\")\n",
        "pochi.like(\"カレー\")"
      ]
    }
  ]
}